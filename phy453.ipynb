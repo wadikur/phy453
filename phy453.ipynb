{
 "cells": [
  {
   "cell_type": "markdown",
   "metadata": {},
   "source": [
    "# PHY453: Computational Physics #\n",
    "\n",
    "This notebook contains all the assignements for the course \"PHY453: Computational Physics\".\n",
    "\n"
   ]
  },
  {
   "cell_type": "markdown",
   "metadata": {},
   "source": [
    "## Trapezoidal Integration\n",
    "We want to find the value of $\\pi$ using the $\\int_{0}^{1} \\frac{1}{1+x^2}dx$. \n",
    "\n",
    "We are going to use the Trapezoidal rule to calculate the value of the integration numberically.\n",
    "\n",
    "If we want to integrate the function $$ I= \\int_{a}^{b}f(x)dx $$\n",
    "We can take $\\{x_k\\}$ be the partition of \\[a,b\\] such that $$ a=x_0<x1<x2<....<xN=b$$ Where $$ x_k=a+k*h \\\\ h=\\frac{b-a}{N} $$ Then we can approximate $$ I \\approx \\sum_{k=0}^{N-1}\\frac{f(x_k)+f(x_{k+1})}{2}*h=\\frac{(f(a)+f(b))}{2}*h + \\sum_{k=1}^{N-1}f(x_k)*h $$\n",
    "\n",
    "The approximated value get closer to the real value of the integration as we increase the value of $N$.\n",
    "\n",
    "The below fortran code implements trapezoidal integration on $\\int_{0}^{1} \\frac{1}{1+x^2}dx$. The actual value of the integration is $\\pi$. We keep increasing the value of $N$ untill the error is greater than $10^{-10}$."
   ]
  },
  {
   "cell_type": "code",
   "execution_count": 1,
   "metadata": {},
   "outputs": [
    {
     "name": "stdout",
     "output_type": "stream",
     "text": [
      "program Trapazoidal\r\n",
      "        !This program finds the value of pi using Trapezoidal integration.\r\n",
      "        !The function used is 4/(1+x**2)\r\n",
      "      implicit none\r\n",
      "      real*8:: h,x0,xn,Area,x,error,f0,fn,func\r\n",
      "      integer:: n,i\r\n",
      "\r\n",
      "      x0=0.0d0\r\n",
      "      xn=1.0d0\r\n",
      "      f0=func(0.0d0)\r\n",
      "      fn=func(1.0d0)\r\n",
      "      n=1000\r\n",
      "      error=100\r\n",
      "     open(unit=21,file=\"error.dat\") \r\n",
      "     open(unit=22,file=\"error_vs_n.dat\")\r\n",
      "      do while (abs(error)>1e-10)\r\n",
      "        n=n+100\r\n",
      "        h=(xn-x0)/real(n)\r\n",
      "        Area=(h*(f0+fn))/2.0d0\r\n",
      "        \r\n",
      "        do i=1,n-1\r\n",
      "                x=x0+h*i\r\n",
      "                Area=Area+func(x)*h\r\n",
      "        end do\r\n",
      "        \r\n",
      "        error=4.0d0*atan(1.0d0)-Area\r\n",
      "        print*, n, Area, error\r\n",
      "\r\n",
      "        write(21,*) 1.0d0/(n**2), error\r\n",
      "        write(22,*) n,error\r\n",
      "      \r\n",
      "      end do\r\n",
      "        \r\n",
      "\r\n",
      "\r\n",
      "end program Trapazoidal\r\n",
      "\r\n",
      "\r\n",
      "function func(x) result(y)\r\n",
      "      real*8::x,y\r\n",
      "      y=(4.0d0/(1+x**2))\r\n",
      "end function func\r\n"
     ]
    }
   ],
   "source": [
    "!cat Trap_integration/trap_integration.f90"
   ]
  },
  {
   "cell_type": "markdown",
   "metadata": {},
   "source": [
    "-------------------\n",
    "If we print out the 10 lines each from the file \"error_vs_n.dat\", we can see how $error$ is decreasing with increasing $N$."
   ]
  },
  {
   "cell_type": "code",
   "execution_count": 2,
   "metadata": {},
   "outputs": [
    {
     "name": "stdout",
     "output_type": "stream",
     "text": [
      "        1100   1.3774105411812343E-007\n",
      "        1200   1.1574073521813943E-007\n",
      "        1300   9.8619330923810367E-008\n",
      "        1400   8.5034013164175803E-008\n",
      "        1500   7.4074070433027828E-008\n",
      "        1600   6.5104160729134719E-008\n",
      "        1700   5.7670131781151213E-008\n",
      "        1800   5.1440332438090763E-008\n",
      "        1900   4.6168054268491687E-008\n",
      "        2000   4.1666673666895804E-008\n",
      "....................................................\n",
      "       40000   1.0417622320346709E-010\n",
      "       40100   1.0361045355011811E-010\n",
      "       40200   1.0313305764952929E-010\n",
      "       40300   1.0260770011427667E-010\n",
      "       40400   1.0212897194605830E-010\n",
      "       40500   1.0158895946688062E-010\n",
      "       40600   1.0109157955184855E-010\n",
      "       40700   1.0060396959943319E-010\n",
      "       40800   1.0012746187726407E-010\n",
      "       40900   9.9622976534874397E-011\n"
     ]
    }
   ],
   "source": [
    "!head -n 10 error_vs_n.dat && echo \"....................................................\" && tail -n 10 error_vs_n.dat\n",
    "\n"
   ]
  },
  {
   "cell_type": "markdown",
   "metadata": {},
   "source": [
    "If we plot the graph between $error$ vs $N$, we can see how error falls with increasing $N$.\n",
    "![error_vs_n](Trap_integration/error_vs_n.png)\n",
    "\n",
    "Theoretically, $$error \\propto \\frac{1}{n^2}$$ If we plot $error$ vs $\\frac{1}{N^2}$,\n",
    "\n",
    "![error_vs_inverse_square](Trap_integration/error_vs_inverse_square.png)\n",
    "\n",
    "Which gives us a straight line, proving $error \\propto \\frac{1}{n^2}$\n",
    "\n",
    "----------------"
   ]
  },
  {
   "cell_type": "markdown",
   "metadata": {},
   "source": [
    "## Random Number Testing ##\n",
    "\n",
    "In this exercise we want to do'\n",
    "1. Mean and Standard deviation of Uniformly generated random number.\n",
    "2. Scatter plot of uniformly generated random number.\n",
    "3. Correlation of uniformly generated random number.\n",
    "\n",
    "Below fortran code generates uniform random number and calculate their mean and standard deviation for $N=10^2,10^3,...,10^8$. It also generates scatter plot for 10000 pair of random number and calculates correlation averaging over 100000 random numbers.\n",
    "\n",
    "To check what happens to the correlation if we average over small number of random numbers, I have added code to calculate the correlation for 100 random number."
   ]
  },
  {
   "cell_type": "code",
   "execution_count": 3,
   "metadata": {},
   "outputs": [
    {
     "name": "stdout",
     "output_type": "stream",
     "text": [
      "program randomtest\r\n",
      "        implicit none\r\n",
      "\r\n",
      "        real*8:: sums,sq_sums,mean,sq_mean,sigma,c_k,sum2\r\n",
      "        integer:: n,i,j,k,m\r\n",
      "        real*8, allocatable, dimension(:):: r\r\n",
      "        character(len=32):: filename\r\n",
      "\r\n",
      "        open(21,file=\"meandata.dat\")\r\n",
      "        open(22,file=\"data.dat\")\r\n",
      "\r\n",
      "\r\n",
      "        do j=2,8\r\n",
      "                n=10**j\r\n",
      "        \r\n",
      "                allocate(r(n))\r\n",
      "\r\n",
      "                call random_number(r)\r\n",
      "                ! Calculating the mean and standard deviation\r\n",
      "                sums=0.0d0\r\n",
      "                sq_sums=0.0d0\r\n",
      "                do i=1, n\r\n",
      "                        sums=sums+r(i)\r\n",
      "                        sq_sums=sq_sums+r(i)**2\r\n",
      "                end do\r\n",
      "\r\n",
      "                mean=sums/real(n)\r\n",
      "                sq_mean=sq_sums/real(n)\r\n",
      "                sigma=sqrt(sq_mean-mean**2)\r\n",
      "                write(*,*) \"number of random number:\",n\r\n",
      "                write(*,*) \"The mean is:\", mean\r\n",
      "                write(*,*) \"The standard deviation is:\", sigma\r\n",
      "                write(21,*) 1.0d0/sqrt(real(n)),abs(mean-0.5d0)\r\n",
      "                write(22,*) n,mean,sigma\r\n",
      "\r\n",
      "                \r\n",
      "                if (n==10000) then\r\n",
      "                        open(23,file=\"scatterdata.dat\")\r\n",
      "                ! Scatter plot\r\n",
      "                        do i=1,n-1\r\n",
      "                                write(23,*) r(i),r(i+1)\r\n",
      "                        end do\r\n",
      "                        \r\n",
      "                       \r\n",
      "                end if\r\n",
      "                !Correlation plot\r\n",
      "                if (n==100000) then\r\n",
      "                        open(24,file=\"correlationdata.dat\")\r\n",
      "                        do m=1,1000\r\n",
      "                                k=m-1\r\n",
      "                                sum2=0.0d0\r\n",
      "                                do i=1,n-k\r\n",
      "                                        sum2=sum2+r(i)*r(i+k)\r\n",
      "                                end do\r\n",
      "                                sum2=sum2/real(n-k)\r\n",
      "                                c_k=(sum2-mean**2)/sigma**2\r\n",
      "\r\n",
      "                                write(24,*) k,c_k\r\n",
      "                       end do\r\n",
      "                end if\r\n",
      "                !Calculating correlation for small number of random number\r\n",
      "                if (n==100) then\r\n",
      "\r\n",
      "                        open(26,file=\"correlationdata_small_n.dat\")\r\n",
      "                        do m=1,50\r\n",
      "                                k=m-1\r\n",
      "                                sum2=0.0d0\r\n",
      "                                do i=1,n-k\r\n",
      "                                        sum2=sum2+r(i)*r(i+k)\r\n",
      "                                end do\r\n",
      "                                sum2=sum2/real(n-k)\r\n",
      "                                c_k=(sum2-mean**2)/sigma**2\r\n",
      "\r\n",
      "                                write(26,*) k,c_k\r\n",
      "                       end do\r\n",
      "                end if\r\n",
      "\r\n",
      "\r\n",
      "\r\n",
      "                                        \r\n",
      "                                \r\n",
      "                deallocate(r)\r\n",
      "       end do\r\n",
      "                \r\n",
      "end program randomtest\r\n",
      "\r\n"
     ]
    }
   ],
   "source": [
    "!cat Random/randomtest.f90"
   ]
  },
  {
   "cell_type": "markdown",
   "metadata": {},
   "source": [
    "-------------\n",
    "The fortran random number generator generates uniform random number in the range [0,1], Which should have a mean $\\frac{1}{2}$ and standard deviation $\\frac{1}{\\sqrt{12}}$. If we display the mean and standard deviation for different value of $N$"
   ]
  },
  {
   "cell_type": "code",
   "execution_count": 4,
   "metadata": {},
   "outputs": [
    {
     "name": "stdout",
     "output_type": "stream",
     "text": [
      "         100  0.48178876732060788       0.29646068464055253     \r\n",
      "        1000  0.49875663349048366       0.28555082549750493     \r\n",
      "       10000  0.49784174015751886       0.28942543637868146     \r\n",
      "      100000  0.50131936988705905       0.28795544861142314     \r\n",
      "     1000000  0.50017467026179852       0.28862786817378605     \r\n",
      "    10000000  0.50012368778214222       0.28872697969385780     \r\n",
      "   100000000  0.50001353829144346       0.28865940448814625     \r\n"
     ]
    }
   ],
   "source": [
    "!cat Random/data.dat"
   ]
  },
  {
   "cell_type": "markdown",
   "metadata": {},
   "source": [
    "The first coloumn is the number of random number generated, second column is mean and third coloumn is standard deviation. Value of $\\frac{1}{\\sqrt{12}}$ is 0.28867513459481288. So, we can see the standard mean and standard deviations are matching with the real value, so we can infere that the random number generator is generating from uniform distribution.\n",
    "\n",
    "--------------\n",
    "Now to see how $\\left|(mean-0.5)\\right|$ varies with $N$,\n",
    "![mean](Random/mean_vs_inverserootn.png)\n",
    "\n",
    "But this plot has very few random number, also the $\\frac{1}{\\sqrt(N)}$ are not evenly spread out.\n",
    "\n",
    "So I have written a separate code to see plot $(mean-0.5)$ vs $N$"
   ]
  },
  {
   "cell_type": "code",
   "execution_count": 5,
   "metadata": {},
   "outputs": [
    {
     "name": "stdout",
     "output_type": "stream",
     "text": [
      "program MeanTest\r\n",
      "      implicit none\r\n",
      "\r\n",
      "      real*8:: r, mean, sums,abs_error,sq_sums,sigma\r\n",
      "\r\n",
      "      integer:: n,i\r\n",
      "      open(21,file=\"meantest.dat\")\r\n",
      "\r\n",
      "      n=1000\r\n",
      "\r\n",
      "      do while (n<1e5)\r\n",
      "        sums=0.0d0\r\n",
      "\r\n",
      "        do i=1,n\r\n",
      "                call random_number(r)\r\n",
      "                sums=sums+r\r\n",
      "\r\n",
      "        end do\r\n",
      "        mean=sums/real(n)\r\n",
      "        abs_error=abs(mean-0.5)\r\n",
      "        write(21,*) 1/sqrt(real(n)),abs_error\r\n",
      "        write(*,*) n,abs_error,mean\r\n",
      "        n=n+100\r\n",
      "\r\n",
      "      end do\r\n",
      "      \r\n",
      "end program MeanTest\r\n",
      "        \r\n",
      "\r\n"
     ]
    }
   ],
   "source": [
    "!cat Random/meantest.f90"
   ]
  },
  {
   "cell_type": "markdown",
   "metadata": {},
   "source": [
    "If we plot the graph,\n",
    "![meantest](Random/meantest.png)\n",
    "\n",
    "It does not tell that $\\left|(mean-0.5)\\right|$ is not linear with $\\frac{1}{\\sqrt{N}}$"
   ]
  },
  {
   "cell_type": "markdown",
   "metadata": {},
   "source": [
    "#### Scatter plot ####\n",
    "The scatter plot is ![scatterplot](Random/scatterplot.png) Which demonstrate that our random number is uniformly distributed over the area.\n",
    "\n",
    "The correlation plot comes as below, ![Correlation](Random/correlation.png)\n",
    "\n",
    "We can see that the correlation is near to 0. To visulize the graph better we can plot the graph for small values of k.\n",
    "![Correlation_small_k](Random/correlation_small.png)\n",
    "\n",
    "Which tells us that our random number are not correlated with each other.\n",
    "\n",
    "If we take a small set of random number to calculate the correlation, ![Correlation_small_n](Random/correlation_small_n.png) We can see the deviation of the correlation about 0 is very high. As we increase the number of random numbers, the fluctuation decreases, demonstrating **Law of large number**."
   ]
  },
  {
   "cell_type": "markdown",
   "metadata": {},
   "source": [
    "### Random number generation and histogram plot ###\n",
    "\n",
    "Lot of times we will need to generate random numbers from different probability distribution other than uniform distribution. Fortran `CALL RANDOM_NUMBER()` gives us a uniform distribution. We can generate our required distribution from this uniform by doing variable transformation or other method (Box Mullar in case of Gaussian). In this exercise, we want to generate the ranodm number and plot the histogram for\n",
    "1. Uniform Distribution\n",
    "2. Exponential Distribution\n",
    "3. Gaussian Distribution\n",
    "\n",
    "#### Uniform Histogram ####\n",
    "\n",
    "The code below generates $10^5$ random number and put them into 10 bin according to where they lie in [0,1]."
   ]
  },
  {
   "cell_type": "code",
   "execution_count": 6,
   "metadata": {},
   "outputs": [
    {
     "name": "stdout",
     "output_type": "stream",
     "text": [
      "program Uniform\r\n",
      "      implicit none\r\n",
      "\r\n",
      "      real*8:: r\r\n",
      "      integer,allocatable,dimension(:):: bin\r\n",
      "      integer:: n,i,nbin\r\n",
      "      n=100000\r\n",
      "\r\n",
      "      nbin=10\r\n",
      "\r\n",
      "      open(21,file=\"uniform_histogram.dat\")\r\n",
      "      open(22,file=\"uniform_data.dat\")\r\n",
      "\r\n",
      "      allocate(bin(nbin))\r\n",
      "\r\n",
      "      bin=0\r\n",
      "      do i= 1,n\r\n",
      "        call random_number(r)\r\n",
      "        write(22,*) r\r\n",
      "        r=nbin*r\r\n",
      "        bin(int(r)+1)=bin(int(r)+1)+1\r\n",
      "      end do\r\n",
      "      write(*,*) bin\r\n",
      "      \r\n",
      "      do i=1,nbin\r\n",
      "        \r\n",
      "        write(21,*) i,bin(i)\r\n",
      "      end do\r\n",
      "\r\n",
      "\r\n",
      "end program Uniform\r\n",
      "\r\n",
      "\r\n"
     ]
    }
   ],
   "source": [
    "!cat Histogram/uniform_histogram.f90"
   ]
  },
  {
   "cell_type": "code",
   "execution_count": 7,
   "metadata": {},
   "outputs": [
    {
     "name": "stdout",
     "output_type": "stream",
     "text": [
      "           1        9989\r\n",
      "           2        9898\r\n",
      "           3        9922\r\n",
      "           4       10000\r\n",
      "           5       10106\r\n",
      "           6       10043\r\n",
      "           7       10014\r\n",
      "           8       10025\r\n",
      "           9        9994\r\n",
      "          10       10009\r\n"
     ]
    }
   ],
   "source": [
    "!cat Histogram/uniform_histogram.dat"
   ]
  },
  {
   "cell_type": "markdown",
   "metadata": {},
   "source": [
    "We can see all the bins have random number close to 10000.\n",
    "\n",
    "This program saves all the $10^5$ random number in a single array in the file \"uniform_data.dat\". We can use **gnuplot** to plot histogram using the random number. For that we can use the gnuplot script below"
   ]
  },
  {
   "cell_type": "code",
   "execution_count": 8,
   "metadata": {},
   "outputs": [
    {
     "name": "stdout",
     "output_type": "stream",
     "text": [
      "reset\r\n",
      "n=10 #number of bins \r\n",
      "max=1. #max value\r\n",
      "min=0. #min value\r\n",
      "width=(max-min)/n #interval width\r\n",
      "#function used to map a value to the intervals\r\n",
      "hist(x,width)=width*floor(x/width)+width/2.0\r\n",
      "set term png #output terminal and file\r\n",
      "set output \"uniform_histogram.png\"\r\n",
      "set xrange [min:max]\r\n",
      "set yrange [0:]\r\n",
      "#to put an empty boundary around the\r\n",
      "#data inside an autoscaled graph.\r\n",
      "set offset graph 0.05,0.05,0.05,0.0\r\n",
      "set xtics min,(max-min)/5,max\r\n",
      "set boxwidth width*0.9\r\n",
      "set style fill solid 0.5 #fillstyle\r\n",
      "set tics out nomirror\r\n",
      "set title \"Uniform Histogram\"\r\n",
      "set xlabel \"x\"\r\n",
      "set ylabel \"Frequency\"\r\n",
      "#count and plot\r\n",
      "plot \"uniform_data.dat\" u (hist($1,width)):(1.0) smooth freq w boxes lc rgb\"green\" notitle\r\n"
     ]
    }
   ],
   "source": [
    "!cat Histogram/uniform_histogram.plt"
   ]
  },
  {
   "cell_type": "markdown",
   "metadata": {},
   "source": [
    "Which gives us the below histogram.\n",
    "![uniform_histogram](Histogram/uniform_histogram.png)\n",
    "\n",
    "This is a positive test for the uniform random number generator"
   ]
  },
  {
   "cell_type": "markdown",
   "metadata": {},
   "source": [
    "#### Exponential Random Number ####\n",
    "\n",
    "If x is random number from a uniform distribution in the range [0,1] we can get a random number y from $\\text{pdf}= e^{-y}$ by doing the below tranformation $$y=-\\log{(1-x)}$$\n",
    "\n",
    "Here is the fortran code"
   ]
  },
  {
   "cell_type": "code",
   "execution_count": 9,
   "metadata": {},
   "outputs": [
    {
     "name": "stdout",
     "output_type": "stream",
     "text": [
      "program Exponential\r\n",
      "      implicit none\r\n",
      "\r\n",
      "      real*8:: r\r\n",
      "      integer:: n,i\r\n",
      "\r\n",
      "      n=100000\r\n",
      "\r\n",
      "      open(22,file=\"exponential_data.dat\")\r\n",
      "\r\n",
      "      do i=1,n\r\n",
      "        call random_number(r)\r\n",
      "        r=-log(1-r)                 ! pdf=e**(-x) from (0,infinity)\r\n",
      "        write(22,*) r\r\n",
      "      end do\r\n",
      "\r\n",
      "      \r\n",
      "end program Exponential\r\n"
     ]
    }
   ],
   "source": [
    "!cat Histogram/exponential_histogram.f90"
   ]
  },
  {
   "cell_type": "markdown",
   "metadata": {},
   "source": [
    "This program generates $10^5$ random number and store them in the file \"exponential_data.dat\". We can use gnuplot to generate histogram for this numbers.\n",
    "\n"
   ]
  },
  {
   "cell_type": "code",
   "execution_count": 10,
   "metadata": {},
   "outputs": [
    {
     "name": "stdout",
     "output_type": "stream",
     "text": [
      "reset\r\n",
      "n=100 #number of intervals\r\n",
      "max=10. #max value\r\n",
      "min=0. #min value\r\n",
      "width=(max-min)/n #interval width\r\n",
      "#function used to map a value to the intervals\r\n",
      "hist(x,width)=width*floor(x/width)+width/2.0\r\n",
      "set term png #output terminal and file\r\n",
      "set output \"exponential_histogram.png\"\r\n",
      "set xrange [min:max]\r\n",
      "set yrange [0:]\r\n",
      "#to put an empty boundary around the\r\n",
      "#data inside an autoscaled graph.\r\n",
      "set offset graph 0.05,0.05,0.05,0.0\r\n",
      "set xtics min,(max-min)/5,max\r\n",
      "set boxwidth width*0.9\r\n",
      "set style fill solid 0.5 #fillstyle\r\n",
      "set tics out nomirror\r\n",
      "set title \"Exponential Histogram\"\r\n",
      "set xlabel \"y\"\r\n",
      "set ylabel \"Frequency\"\r\n",
      "#count and plot\r\n",
      "plot \"exponential_data.dat\" u (hist($1,width)):(1.0) smooth freq w boxes lc rgb\"green\" notitle\r\n"
     ]
    }
   ],
   "source": [
    "!cat Histogram/exponential_histogram.plt"
   ]
  },
  {
   "cell_type": "markdown",
   "metadata": {},
   "source": [
    "Here We are using 100 bins in the range[0,10]. \n",
    "![exponential_histogram](Histogram/exponential_histogram.png)\n",
    "\n",
    "To verify that this curve is indeed $e^{-x}$, we can plot $(-\\log{(frequency)})$ vs $y$, which should give us a straight line."
   ]
  },
  {
   "cell_type": "code",
   "execution_count": null,
   "metadata": {},
   "outputs": [],
   "source": []
  }
 ],
 "metadata": {
  "kernelspec": {
   "display_name": "Python 3",
   "language": "python",
   "name": "python3"
  },
  "language_info": {
   "codemirror_mode": {
    "name": "ipython",
    "version": 3
   },
   "file_extension": ".py",
   "mimetype": "text/x-python",
   "name": "python",
   "nbconvert_exporter": "python",
   "pygments_lexer": "ipython3",
   "version": "3.7.3"
  }
 },
 "nbformat": 4,
 "nbformat_minor": 2
}
